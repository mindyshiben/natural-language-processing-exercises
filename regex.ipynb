{
 "cells": [
  {
   "cell_type": "markdown",
   "id": "4779ac3f",
   "metadata": {},
   "source": [
    "### Regex Exercises\n",
    "\n",
    "\n",
    "Write a function named is_vowel. It should accept a string as input and use a regular expression to determine if the passed string is a vowel. While not explicity mentioned in the lesson, you can treat the result of re.search as a boolean value that indicates whether or not the regular expression matches the given string.\n",
    "\n",
    "Write a function named is_valid_username that accepts a string as input. A valid username starts with a lowercase letter, and only consists of lowercase letters, numbers, or the _ character. It should also be no longer than 32 characters. The function should return either True or False depending on whether the passed string is a valid username.\n",
    "\n",
    "\n",
    "-  is_valid_username('aaaaaaaaaaaaaaaaaaaaaaaaaaaaaaaaa')\n",
    "False\n",
    "-  is_valid_username('codeup')\n",
    "True\n",
    "- is_valid_username('Codeup')\n",
    "False\n",
    "- is_valid_username('codeup123')\n",
    "True\n",
    "- is_valid_username('1codeup')\n",
    "False\n",
    "\n",
    "\n",
    "Write a regular expression to capture phone numbers. It should match all of the following:\n",
    "\n",
    "\n",
    "- (210) 867 5309\n",
    "- +1 210.867.5309\n",
    "- 867-5309\n",
    "- 210-867-5309\n",
    "\n",
    "\n",
    "Use regular expressions to convert the dates below to the standardized year-month-day format.\n",
    "\n",
    "\n",
    "02/04/19\n",
    "02/05/19\n",
    "02/06/19\n",
    "02/07/19\n",
    "02/08/19\n",
    "02/09/19\n",
    "02/10/19\n",
    "\n",
    "Write a regex to extract the various parts of these logfile lines:\n",
    "\n",
    "\n",
    "GET /api/v1/sales?page=86 [16/Apr/2019:193452+0000] HTTP/1.1 {200} 510348 \"python-requests/2.21.0\" 97.105.19.58\n",
    "POST /users_accounts/file-upload [16/Apr/2019:193452+0000] HTTP/1.1 {201} 42 \"User-Agent: Mozilla/5.0 (X11; Fedora; Fedora; Linux x86_64) AppleWebKit/537.36 (KHTML, like Gecko) Chrome/73.0.3683.86 Safari/537.36\" 97.105.19.58\n",
    "GET /api/v1/items?page=3 [16/Apr/2019:193453+0000] HTTP/1.1 {429} 3561 \"python-requests/2.21.0\" 97.105.19.58\n",
    "Bonus Exercise\n",
    "\n",
    "You can find a list of words on your mac at /usr/share/dict/words. Use this file to answer the following questions:\n",
    "\n",
    "\n",
    "- How many words have at least 3 vowels?\n",
    "- How many words have at least 3 vowels in a row?\n",
    "- How many words have at least 4 consonants in a row?\n",
    "- How many words start and end with the same letter?\n",
    "- How many words start and end with a vowel?\n",
    "- How many words contain the same letter 3 times in a row?\n",
    "- What other interesting patterns in words can you find?\n",
    "\n"
   ]
  },
  {
   "cell_type": "code",
   "execution_count": 1,
   "id": "2a20552d",
   "metadata": {},
   "outputs": [],
   "source": [
    "import pandas as pd \n",
    "import re"
   ]
  },
  {
   "cell_type": "markdown",
   "id": "57344452",
   "metadata": {},
   "source": [
    "### Question 1:\n",
    "\n",
    "- Write a function named is_vowel. It should accept a string as input and use a regular expression to determine if the passed string is a vowel. While not explicity mentioned in the lesson, you can treat the result of re.search as a boolean value that indicates whether or not the regular expression matches the given string."
   ]
  },
  {
   "cell_type": "code",
   "execution_count": 32,
   "id": "f09394b6",
   "metadata": {},
   "outputs": [],
   "source": [
    "#is_vowel = re.search(r\"^[aeiou]$\", string, re.IGNORECASE)"
   ]
  },
  {
   "cell_type": "code",
   "execution_count": 37,
   "id": "ed70be07",
   "metadata": {},
   "outputs": [
    {
     "data": {
      "text/plain": [
       "True"
      ]
     },
     "execution_count": 37,
     "metadata": {},
     "output_type": "execute_result"
    }
   ],
   "source": [
    "#string= 'A'\n",
    "#bool(is_vowel)"
   ]
  },
  {
   "cell_type": "code",
   "execution_count": 39,
   "id": "31170bbe",
   "metadata": {},
   "outputs": [],
   "source": [
    "def is_vowel(string):\n",
    "    vowel = re.search(r\"^[aeiou]$\", string, re.IGNORECASE)\n",
    "    return bool(vowel)"
   ]
  },
  {
   "cell_type": "code",
   "execution_count": 41,
   "id": "35590ccf",
   "metadata": {},
   "outputs": [
    {
     "data": {
      "text/plain": [
       "False"
      ]
     },
     "execution_count": 41,
     "metadata": {},
     "output_type": "execute_result"
    }
   ],
   "source": [
    "string = 'sdkbnm'\n",
    "is_vowel(string)"
   ]
  },
  {
   "cell_type": "code",
   "execution_count": 42,
   "id": "44955df3",
   "metadata": {},
   "outputs": [
    {
     "data": {
      "text/plain": [
       "False"
      ]
     },
     "execution_count": 42,
     "metadata": {},
     "output_type": "execute_result"
    }
   ],
   "source": [
    "string = 'aaaa'\n",
    "is_vowel(string)"
   ]
  },
  {
   "cell_type": "code",
   "execution_count": 43,
   "id": "1a8baac2",
   "metadata": {},
   "outputs": [
    {
     "data": {
      "text/plain": [
       "True"
      ]
     },
     "execution_count": 43,
     "metadata": {},
     "output_type": "execute_result"
    }
   ],
   "source": [
    "string = 'E'\n",
    "is_vowel(string)"
   ]
  },
  {
   "cell_type": "markdown",
   "id": "681f0a2d",
   "metadata": {},
   "source": [
    "### Question #2:\n",
    "\n",
    "- Write a function named is_valid_username that accepts a string as input. A valid username starts with a lowercase letter, and only consists of lowercase letters, numbers, or the _ character. It should also be no longer than 32 characters. The function should return either True or False depending on whether the passed string is a valid username."
   ]
  },
  {
   "cell_type": "code",
   "execution_count": 307,
   "id": "7e2a9657",
   "metadata": {},
   "outputs": [],
   "source": [
    "def is_valid_username(string):\n",
    "    username = re.search(r\"^[a-z].[0-9a-z_]{5,30}$\", string)\n",
    "    return bool(username)"
   ]
  },
  {
   "cell_type": "code",
   "execution_count": 308,
   "id": "45b1ccb2",
   "metadata": {},
   "outputs": [
    {
     "data": {
      "text/plain": [
       "True"
      ]
     },
     "execution_count": 308,
     "metadata": {},
     "output_type": "execute_result"
    }
   ],
   "source": [
    "username = 'aekfbhalkhbvf48'\n",
    "is_valid_username(username)"
   ]
  },
  {
   "cell_type": "code",
   "execution_count": 309,
   "id": "ba8dcfb6",
   "metadata": {},
   "outputs": [
    {
     "data": {
      "text/plain": [
       "False"
      ]
     },
     "execution_count": 309,
     "metadata": {},
     "output_type": "execute_result"
    }
   ],
   "source": [
    "username = 'a48'\n",
    "is_valid_username(username)"
   ]
  },
  {
   "cell_type": "code",
   "execution_count": 310,
   "id": "6d7195fa",
   "metadata": {},
   "outputs": [
    {
     "data": {
      "text/plain": [
       "False"
      ]
     },
     "execution_count": 310,
     "metadata": {},
     "output_type": "execute_result"
    }
   ],
   "source": [
    "username = 'a48****'\n",
    "is_valid_username(username)"
   ]
  },
  {
   "cell_type": "code",
   "execution_count": 315,
   "id": "04ea7a7e",
   "metadata": {},
   "outputs": [
    {
     "data": {
      "text/plain": [
       "(False, False, True, False)"
      ]
     },
     "execution_count": 315,
     "metadata": {},
     "output_type": "execute_result"
    }
   ],
   "source": [
    "is_valid_username('aaaaaaaaaaaaaaaaaaaaaaaaaaaaaaaaa'), is_valid_username('Codeup'), is_valid_username('codeup123'), is_valid_username('1codeup')"
   ]
  },
  {
   "cell_type": "markdown",
   "id": "38b3c3cb",
   "metadata": {},
   "source": [
    "### Question 3:\n",
    "\n",
    "Write a regular expression to capture phone numbers. It should match all of the following:\n",
    "\n",
    "- (210) 867 5309\n",
    "- +1 210.867.5309\n",
    "- 867-5309\n",
    "- 210-867-5309"
   ]
  },
  {
   "cell_type": "code",
   "execution_count": 321,
   "id": "af3a73fd",
   "metadata": {},
   "outputs": [
    {
     "data": {
      "text/plain": [
       "<re.Match object; span=(0, 1), match='+'>"
      ]
     },
     "execution_count": 321,
     "metadata": {},
     "output_type": "execute_result"
    }
   ],
   "source": [
    "re.search(r'[0-9|(|+].[]', )"
   ]
  },
  {
   "cell_type": "code",
   "execution_count": 317,
   "id": "fa4f3baa",
   "metadata": {},
   "outputs": [
    {
     "data": {
      "text/plain": [
       "<re.Match object; span=(0, 5), match='89725'>"
      ]
     },
     "execution_count": 317,
     "metadata": {},
     "output_type": "execute_result"
    }
   ],
   "source": [
    "re.search(r'\\d*', '89725')"
   ]
  },
  {
   "cell_type": "code",
   "execution_count": 370,
   "id": "210d78fd",
   "metadata": {},
   "outputs": [
    {
     "data": {
      "text/plain": [
       "['(210) 867 5309']"
      ]
     },
     "execution_count": 370,
     "metadata": {},
     "output_type": "execute_result"
    }
   ],
   "source": [
    "re.findall(r\"[0-9|+|()]{1,5}.?\\d{3}.\\d{4}$\", '+(210) 867 5309')"
   ]
  },
  {
   "cell_type": "code",
   "execution_count": 369,
   "id": "6f10083e",
   "metadata": {},
   "outputs": [
    {
     "data": {
      "text/plain": [
       "['210.867.5309']"
      ]
     },
     "execution_count": 369,
     "metadata": {},
     "output_type": "execute_result"
    }
   ],
   "source": [
    "re.findall(r\"[0-9|+|()]{1,5}.?\\d{3}.\\d{4}$\", '+1 210.867.5309')"
   ]
  },
  {
   "cell_type": "code",
   "execution_count": 368,
   "id": "9304ebb6",
   "metadata": {},
   "outputs": [
    {
     "data": {
      "text/plain": [
       "['867-5309']"
      ]
     },
     "execution_count": 368,
     "metadata": {},
     "output_type": "execute_result"
    }
   ],
   "source": [
    "re.findall(r\"[0-9|+|()]{0,5}.?\\d{3}.\\d{4}$\", '867-5309')"
   ]
  },
  {
   "cell_type": "code",
   "execution_count": 371,
   "id": "ada9c9ae",
   "metadata": {},
   "outputs": [
    {
     "data": {
      "text/plain": [
       "['210-867-5309']"
      ]
     },
     "execution_count": 371,
     "metadata": {},
     "output_type": "execute_result"
    }
   ],
   "source": [
    "re.findall(r\"[0-9|+|()]{0,5}.?\\d{3}.\\d{4}$\", '210-867-5309')"
   ]
  },
  {
   "cell_type": "code",
   "execution_count": 374,
   "id": "731bc390",
   "metadata": {},
   "outputs": [
    {
     "data": {
      "text/plain": [
       "['210-867-5309']"
      ]
     },
     "execution_count": 374,
     "metadata": {},
     "output_type": "execute_result"
    }
   ],
   "source": [
    "#Question 3 final expression w/example\n",
    "\n",
    "phone_num = '210-867-5309'\n",
    "return_phone = re.findall(r\"[0-9|+|()]{0,5}.?\\d{3}.\\d{4}$\", phone_num)\n",
    "return_phone"
   ]
  },
  {
   "cell_type": "markdown",
   "id": "a481b75a",
   "metadata": {},
   "source": [
    "### Question 4\n",
    "\n",
    "Use regular expressions to convert the dates below to the standardized year-month-day format.\n",
    "\n",
    "02/04/19\n",
    "02/05/19\n",
    "02/06/19\n",
    "02/07/19\n",
    "02/08/19\n",
    "02/09/19\n",
    "02/10/19"
   ]
  },
  {
   "cell_type": "code",
   "execution_count": null,
   "id": "5f74e0c3",
   "metadata": {},
   "outputs": [],
   "source": [
    "02/04/19"
   ]
  },
  {
   "cell_type": "code",
   "execution_count": 407,
   "id": "755a267e",
   "metadata": {},
   "outputs": [
    {
     "data": {
      "text/plain": [
       "[]"
      ]
     },
     "execution_count": 407,
     "metadata": {},
     "output_type": "execute_result"
    }
   ],
   "source": [
    "re.findall('r\\d{2}\\d{2}\\d{2}', '02/04/19')"
   ]
  },
  {
   "cell_type": "code",
   "execution_count": null,
   "id": "1ae166bf",
   "metadata": {},
   "outputs": [],
   "source": [
    "patterns = {\n",
    "    '%Y/%m/%d': r'^\\s*\\d{4}\\/\\d{1,2}\\/\\d{1,2}\\s*$',\n",
    "    '%d/%m/%Y': r'^\\s*\\d{1,2}\\/\\d{1,2}\\/\\d{4}\\s*$',\n",
    "    '%Y-%m-%d': r'^\\s*\\d{4}-\\d{1,2}-\\d{1,2}\\s*$',\n",
    "    '%d-%m-%Y': r'^\\s*\\d{1,2}-\\d{1,2}-\\d{4}\\s*$',\n",
    "}\n"
   ]
  },
  {
   "cell_type": "code",
   "execution_count": 391,
   "id": "619059f5",
   "metadata": {},
   "outputs": [
    {
     "data": {
      "text/plain": [
       "[]"
      ]
     },
     "execution_count": 391,
     "metadata": {},
     "output_type": "execute_result"
    }
   ],
   "source": [
    "re.findall(r'\\d.{2}\\d.{2}\\d.{2}', '02/04/19')"
   ]
  },
  {
   "cell_type": "code",
   "execution_count": 436,
   "id": "e45576cd",
   "metadata": {},
   "outputs": [
    {
     "data": {
      "text/plain": [
       "'02/04/19'"
      ]
     },
     "execution_count": 436,
     "metadata": {},
     "output_type": "execute_result"
    }
   ],
   "source": [
    "re.sub(r'(\\d\\d)(\\d\\d)(\\d\\d)', '20' ,'02/04/19')\n",
    "\n",
    "# re.sub(r'(\\w\\d\\d)(\\d\\d\\d)', r'\\1-\\2', s)\n",
    "# >>> m\n",
    "# 'x01-777'\n",
    "#m = re.sub(r'(\\w\\d\\d)(\\d\\d\\d)', r'\\1-\\2', s)"
   ]
  },
  {
   "cell_type": "code",
   "execution_count": 494,
   "id": "ce55274d",
   "metadata": {},
   "outputs": [
    {
     "data": {
      "text/plain": [
       "<re.Match object; span=(0, 8), match='02/04/19'>"
      ]
     },
     "execution_count": 494,
     "metadata": {},
     "output_type": "execute_result"
    }
   ],
   "source": [
    "re.search(r'([0-9]{,2})/([0-9]{,2})/([0-9]{,2})', '02/04/19') #2019-"
   ]
  },
  {
   "cell_type": "code",
   "execution_count": 519,
   "id": "d905b8db",
   "metadata": {},
   "outputs": [
    {
     "data": {
      "text/plain": [
       "['2019-02-04',\n",
       " '2019-02-05',\n",
       " '2019-02-06',\n",
       " '2019-02-07',\n",
       " '2019-02-08',\n",
       " '2019-02-09',\n",
       " '2019-02-10']"
      ]
     },
     "execution_count": 519,
     "metadata": {},
     "output_type": "execute_result"
    }
   ],
   "source": [
    "date_list = ['02/04/19', '02/05/19', '02/06/19', '02/07/19', '02/08/19', '02/09/19', '02/10/19']\n",
    "results = []\n",
    "for i in date_list:\n",
    "    re.sub(r'([0-9]{,2})/([0-9]{,2})/([0-9]{,2})', r'20\\3-\\1-\\2', i)\n",
    "    results.append(re.sub(r'([0-9]{,2})/([0-9]{,2})/([0-9]{,2})', r'20\\3-\\1-\\2', i))\n",
    "results"
   ]
  }
 ],
 "metadata": {
  "kernelspec": {
   "display_name": "Python 3 (ipykernel)",
   "language": "python",
   "name": "python3"
  },
  "language_info": {
   "codemirror_mode": {
    "name": "ipython",
    "version": 3
   },
   "file_extension": ".py",
   "mimetype": "text/x-python",
   "name": "python",
   "nbconvert_exporter": "python",
   "pygments_lexer": "ipython3",
   "version": "3.9.7"
  }
 },
 "nbformat": 4,
 "nbformat_minor": 5
}
