{
 "cells": [
  {
   "cell_type": "code",
   "execution_count": 2,
   "id": "1da85c63",
   "metadata": {},
   "outputs": [],
   "source": [
    "import pandas as pd\n",
    "import re\n",
    "import requests\n",
    "from bs4 import BeautifulSoup as bs"
   ]
  },
  {
   "cell_type": "markdown",
   "id": "7ca3d9fc",
   "metadata": {},
   "source": [
    "### Exercises\n",
    "\n",
    "- By the end of this exercise, you should have a file named acquire.py that contains the specified functions. If you wish, you may break your work into separate files for each website (e.g. acquire_codeup_blog.py and acquire_news_articles.py), but the end function should be present in acquire.py (that is, acquire.py should import get_blog_articles from the acquire_codeup_blog module.)\n",
    "\n",
    "- Codeup Blog Articles\n",
    "\n",
    "- Visit Codeup's Blog and record the urls for at least 5 distinct blog posts. For each post, you should scrape at least the post's title and content.\n",
    "\n",
    "- Encapsulate your work in a function named get_blog_articles that will return a list of dictionaries, with each dictionary representing one article. The shape of each dictionary should look like this:\n",
    "\n",
    "\n",
    "- {\n",
    "    'title': 'the title of the article',\n",
    "    'content': 'the full text content of the article'}\n",
    "\n",
    "- Plus any additional properties you think might be helpful.\n",
    "\n",
    "- Bonus: Scrape the text of all the articles linked on codeup's blog page.\n",
    "\n",
    "- News Articles\n",
    "\n",
    "- We will now be scraping text data from inshorts, a website that provides a brief overview of many different topics.\n",
    "\n",
    "- Write a function that scrapes the news articles for the following topics:\n",
    "\n",
    "        Business\n",
    "        Sports\n",
    "        Technology\n",
    "        Entertainment\n",
    "        The end product of this should be a function named get_news_articles that returns a list of dictionaries, where each dictionary has this shape:\n",
    "\n",
    "\n",
    "        {\n",
    "            'title': 'The article title',\n",
    "            'content': 'The article content',\n",
    "            'category': 'business' # for example\n",
    "        }\n",
    "- Hints:\n",
    "\n",
    "    Start by inspecting the website in your browser. Figure out which elements will be useful.\n",
    "    Start by creating a function that handles a single article and produces a dictionary like the one above.\n",
    "    Next create a function that will find all the articles on a single page and call the function you created in the last step for every article on the page.\n",
    "    Now create a function that will use the previous two functions to scrape the articles from all the pages that you need, and do any additional processing that needs to be done.\n",
    "    Bonus: cache the data\n",
    "\n",
    "- Write your code such that the acquired data is saved locally in some form or fashion. Your functions that retrieve the data should prefer to read the local data instead of having to make all the requests everytime the function is called. Include a boolean flag in the functions to allow the data to be acquired \"fresh\" from the actual sources (re-writing your local cache)."
   ]
  },
  {
   "cell_type": "code",
   "execution_count": 3,
   "id": "5925710a",
   "metadata": {},
   "outputs": [],
   "source": [
    "headers = {'User-Agent': 'Codeup Data Science'}\n",
    "request = requests.get('https://codeup.com/blog/', headers = headers)\n",
    "soup = bs(request.content, 'html.parser')"
   ]
  },
  {
   "cell_type": "code",
   "execution_count": 18,
   "id": "91274cec",
   "metadata": {},
   "outputs": [
    {
     "data": {
      "text/plain": [
       "[3, 4, 13, 0, 6]"
      ]
     },
     "execution_count": 18,
     "metadata": {},
     "output_type": "execute_result"
    }
   ],
   "source": [
    "a = range(20)\n",
    "blog_posts = np.random.choice(a, size=5, replace=False, p=None)\n",
    "blog_posts = blog_posts\n",
    "blog_posts = list(blog_posts)\n",
    "blog_posts"
   ]
  },
  {
   "cell_type": "code",
   "execution_count": 19,
   "id": "51136832",
   "metadata": {},
   "outputs": [
    {
     "data": {
      "text/plain": [
       "[<h2 class=\"entry-title\"><a href=\"https://codeup.com/featured/what-jobs-can-you-get-after-a-coding-bootcamp-part-2-cloud-administration/\">What Jobs Can You Get After a Coding Bootcamp? Part 2: Cloud Administration</a></h2>,\n",
       " <h2 class=\"entry-title\"><a href=\"https://codeup.com/data-science/jobs-after-a-coding-bootcamp-part-1-data-science/\">What Jobs Can You Get After a Coding Bootcamp? Part 1: Data Science</a></h2>,\n",
       " <h2 class=\"entry-title\"><a href=\"https://codeup.com/workshops/san-antonio/in-person-workshop-learn-to-code-javascript-on-7-26/\">In-Person Workshop: Learn to Code – JavaScript on 7/26</a></h2>,\n",
       " <h2 class=\"entry-title\"><a href=\"https://codeup.com/workshops/in-person-workshop-learn-to-code-python-on-7-19/\">In-Person Workshop: Learn to Code – Python on 7/19</a></h2>,\n",
       " <h2 class=\"entry-title\"><a href=\"https://codeup.com/workshops/dallas/free-javascript-workshop-at-codeup-dallas-on-6-28/\">Free JavaScript Workshop at Codeup Dallas on 6/28</a></h2>,\n",
       " <h2 class=\"entry-title\"><a href=\"https://codeup.com/tips-for-prospective-students/is-our-cloud-administration-program-right-for-you/\">Is Our Cloud Administration Program Right for You?</a></h2>,\n",
       " <h2 class=\"entry-title\"><a href=\"https://codeup.com/workshops/pride-in-tech-panel/\">PRIDE in Tech Panel</a></h2>,\n",
       " <h2 class=\"entry-title\"><a href=\"https://codeup.com/codeup-news/inclusion-at-codeup-during-pride-month-and-always/\">Inclusion at Codeup During Pride Month (and Always)</a></h2>,\n",
       " <h2 class=\"entry-title\"><a href=\"https://codeup.com/tips-for-prospective-students/mental-health-first-aid-training/\">Mental Health First Aid Training</a></h2>,\n",
       " <h2 class=\"entry-title\"><a href=\"https://codeup.com/workshops/codeup-dallas-how-to-succeed-at-a-coding-bootcamp-on-june-9th/\">Codeup Dallas: How to Succeed at a Coding Bootcamp on June 9th</a></h2>,\n",
       " <h2 class=\"entry-title\"><a href=\"https://codeup.com/featured/5-reasons-to-attend-our-new-cloud-administration-program/\">5 Reasons To Attend Our New Cloud Administration Program</a></h2>,\n",
       " <h2 class=\"entry-title\"><a href=\"https://codeup.com/workshops/learn-to-code-python-on-5-21/\">Learn to Code: Python on 5/21</a></h2>,\n",
       " <h2 class=\"entry-title\"><a href=\"https://codeup.com/dallas-newsletter/codeup-dallas-joins-career-day/\">Codeup Dallas Joins Career Day</a></h2>,\n",
       " <h2 class=\"entry-title\"><a href=\"https://codeup.com/workshops/project-quest-info-session-may-24th/\">Project Quest Info Session: IT Jumpstart on May 24th</a></h2>,\n",
       " <h2 class=\"entry-title\"><a href=\"https://codeup.com/workshops/from-bootcamp-to-bootcamp-a-military-appreciation-panel/\">From Bootcamp to Bootcamp | A Military Appreciation Panel</a></h2>,\n",
       " <h2 class=\"entry-title\"><a href=\"https://codeup.com/featured/our-acquisition-of-the-rackspace-cloud-academy-one-year-later/\">Our Acquisition of the Rackspace Cloud Academy: One Year Later</a></h2>,\n",
       " <h2 class=\"entry-title\"><a href=\"https://codeup.com/workshops/virtual/learn-to-code-html-css-on-4-30/\">Learn to Code: HTML &amp; CSS on 4/30</a></h2>,\n",
       " <h2 class=\"entry-title\"><a href=\"https://codeup.com/workshops/virtual/learn-to-code-python-workshop-on-4-16/\">Learn to Code: Python Workshop on 4/23</a></h2>]"
      ]
     },
     "execution_count": 19,
     "metadata": {},
     "output_type": "execute_result"
    }
   ],
   "source": [
    "blog_list = soup.find_all('h2', attrs={'class':'entry-title'})\n",
    "blog_list"
   ]
  },
  {
   "cell_type": "code",
   "execution_count": 20,
   "id": "723b2e9d",
   "metadata": {},
   "outputs": [
    {
     "data": {
      "text/plain": [
       "['https://codeup.com/workshops/in-person-workshop-learn-to-code-python-on-7-19/',\n",
       " 'https://codeup.com/workshops/dallas/free-javascript-workshop-at-codeup-dallas-on-6-28/',\n",
       " 'https://codeup.com/workshops/project-quest-info-session-may-24th/',\n",
       " 'https://codeup.com/featured/what-jobs-can-you-get-after-a-coding-bootcamp-part-2-cloud-administration/',\n",
       " 'https://codeup.com/workshops/pride-in-tech-panel/']"
      ]
     },
     "execution_count": 20,
     "metadata": {},
     "output_type": "execute_result"
    }
   ],
   "source": [
    "blog_links = []\n",
    "for n in blog_posts:\n",
    "    blog = blog_list[n]\n",
    "    blog_links.append(blog.a[\"href\"])\n",
    "blog_links"
   ]
  },
  {
   "cell_type": "code",
   "execution_count": 21,
   "id": "8b855c00",
   "metadata": {},
   "outputs": [
    {
     "ename": "ModuleNotFoundError",
     "evalue": "No module named 'acquire'",
     "output_type": "error",
     "traceback": [
      "\u001b[0;31m---------------------------------------------------------------------------\u001b[0m",
      "\u001b[0;31mModuleNotFoundError\u001b[0m                       Traceback (most recent call last)",
      "\u001b[0;32m/var/folders/s4/hmz6ljm533vgpm_bhv59yw0m0000gn/T/ipykernel_38175/4265176641.py\u001b[0m in \u001b[0;36m<module>\u001b[0;34m\u001b[0m\n\u001b[0;32m----> 1\u001b[0;31m \u001b[0;32mfrom\u001b[0m \u001b[0macquire\u001b[0m \u001b[0;32mimport\u001b[0m \u001b[0macquire_codeup_blog\u001b[0m\u001b[0;34m\u001b[0m\u001b[0;34m\u001b[0m\u001b[0m\n\u001b[0m",
      "\u001b[0;31mModuleNotFoundError\u001b[0m: No module named 'acquire'"
     ]
    }
   ],
   "source": []
  },
  {
   "cell_type": "code",
   "execution_count": null,
   "id": "449eacbb",
   "metadata": {},
   "outputs": [],
   "source": [
    "http://www.chakoteya.net/NextGen/episodes.htm"
   ]
  }
 ],
 "metadata": {
  "kernelspec": {
   "display_name": "Python 3 (ipykernel)",
   "language": "python",
   "name": "python3"
  },
  "language_info": {
   "codemirror_mode": {
    "name": "ipython",
    "version": 3
   },
   "file_extension": ".py",
   "mimetype": "text/x-python",
   "name": "python",
   "nbconvert_exporter": "python",
   "pygments_lexer": "ipython3",
   "version": "3.9.7"
  }
 },
 "nbformat": 4,
 "nbformat_minor": 5
}
